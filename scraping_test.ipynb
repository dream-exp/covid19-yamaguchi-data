{
 "cells": [
  {
   "cell_type": "markdown",
   "metadata": {},
   "source": [
    "## 個別ページのデータ収集"
   ]
  },
  {
   "cell_type": "code",
   "execution_count": 1,
   "metadata": {},
   "outputs": [],
   "source": [
    "import requests\n",
    "import re\n",
    "from bs4 import BeautifulSoup\n",
    "import jaconv\n",
    "\n",
    "YEAR = 2020 #現状は2020年で決め打ち"
   ]
  },
  {
   "cell_type": "code",
   "execution_count": 2,
   "metadata": {},
   "outputs": [],
   "source": [
    "def get_inspection_and_patient(s): # PCR検査数と陽性数を返す\n",
    "    search = re.compile(\"^(?=.*結果：陰性).*$\")\n",
    "    inspection_element = s.find(\"p\", text=search) # 変数searchで指定する正規表現に一致するpタグを取り出す\n",
    "\n",
    "    inspections = re.findall(r'[0-9]+', jaconv.z2h(inspection_element.text.replace(\"，\", \"\"), kana=False, digit=True, ascii=True))  # 対象のpタグから数値を取り出す\n",
    "\n",
    "    inspection_num = inspections[0]\n",
    "\n",
    "    patient_num = inspections[2]  if len(inspections) > 2 else 0 #県のサイトでは陽性が出ていないときは陰性の数しか書かれていないため\n",
    "    \n",
    "    return inspection_num, patient_num"
   ]
  },
  {
   "cell_type": "code",
   "execution_count": 3,
   "metadata": {},
   "outputs": [],
   "source": [
    "def get_quarent(s): # 相談件数を返す\n",
    "    search = re.compile(\"^(全県相談件数：).*$\")\n",
    "    quarent_element = s.find(\"p\", text=search) # 変数searchで指定する正規表現に一致するpタグを取り出す\n",
    "\n",
    "    quarents = re.findall(r'[0-9]+', jaconv.z2h(quarent_element.text.replace(\"，\", \"\"), kana=False, digit=True, ascii=True))  # 対象のpタグから数値を取り出す\n",
    "\n",
    "    quarent_num = quarents[0]\n",
    "\n",
    "    return quarent_num"
   ]
  },
  {
   "cell_type": "code",
   "execution_count": 4,
   "metadata": {},
   "outputs": [],
   "source": [
    "def get_timestamp(s): # その記事内のタイムスタンプを返す\n",
    "    search = re.compile(\"^(?=.*までの件数は次のとおりです).*$\")\n",
    "    date_element = s.find(\"p\", text=search)\n",
    "\n",
    "    date = re.findall(r'[0-9]+', jaconv.z2h(date_element.text.replace(\"，\", \"\"), kana=False, digit=True, ascii=True)) # 対象のpタグから数値を取り出す\n",
    "\n",
    "    time_stamp = \"{}-{}-{}T08:00:00.000Z\".format(YEAR, date[0].zfill(2), date[1].zfill(2)) # 現状は8時決め打ちで、json記載のタイムスタンプに整形している\n",
    "    \n",
    "    return time_stamp"
   ]
  },
  {
   "cell_type": "markdown",
   "metadata": {},
   "source": [
    "## ニュース一覧から新型コロナウイルスの件数ページを取得する"
   ]
  },
  {
   "cell_type": "markdown",
   "metadata": {},
   "source": [
    "更新記事数が20件を超えるとページネーションされるので注意"
   ]
  },
  {
   "cell_type": "code",
   "execution_count": 5,
   "metadata": {},
   "outputs": [],
   "source": [
    "# 報道発表ページで「新型コロナウイルス感染症にかかる」で検索した際の結果を利用\n",
    "res = requests.get(\"https://webnavi.pref.yamaguchi.lg.jp/press/?q=%E6%96%B0%E5%9E%8B%E3%82%B3%E3%83%AD%E3%83%8A%E3%82%A6%E3%82%A4%E3%83%AB%E3%82%B9%E6%84%9F%E6%9F%93%E7%97%87%E3%81%AB%E3%81%8B%E3%81%8B%E3%82%8B\")\n",
    "res.encoding = res.apparent_encoding \n",
    "soup = BeautifulSoup(res.content, \"html.parser\")"
   ]
  },
  {
   "cell_type": "code",
   "execution_count": 6,
   "metadata": {},
   "outputs": [],
   "source": [
    "search = re.compile(\"^(?=.*新型コロナウイルス感染症にかかる相談件数等について).*$\")\n",
    "news_link_element = soup.find_all(\"a\", text=search) # 個別記事のaタグを取り出す"
   ]
  },
  {
   "cell_type": "code",
   "execution_count": 8,
   "metadata": {},
   "outputs": [
    {
     "name": "stdout",
     "output_type": "stream",
     "text": [
      "https://www.pref.yamaguchi.lg.jp/press/202003/045875.html\n",
      "検査数, 陽性数 ：  ('149', '3')\n",
      "相談件数 ：  6268\n",
      "タイムスタンプ ：  2020-03-17T08:00:00.000Z\n",
      "https://www.pref.yamaguchi.lg.jp/press/202003/045860.html\n",
      "検査数, 陽性数 ：  ('136', '3')\n",
      "相談件数 ：  5846\n",
      "タイムスタンプ ：  2020-03-15T08:00:00.000Z\n",
      "https://www.pref.yamaguchi.lg.jp/press/202003/045850.html\n",
      "検査数, 陽性数 ：  ('122', '3')\n",
      "相談件数 ：  5510\n",
      "タイムスタンプ ：  2020-03-12T08:00:00.000Z\n",
      "https://www.pref.yamaguchi.lg.jp/press/202003/045849.html\n",
      "検査数, 陽性数 ：  ('113', '3')\n",
      "相談件数 ：  5298\n",
      "タイムスタンプ ：  2020-03-11T08:00:00.000Z\n",
      "https://www.pref.yamaguchi.lg.jp/press/202003/045834.html\n",
      "検査数, 陽性数 ：  ('104', '3')\n",
      "相談件数 ：  5076\n",
      "タイムスタンプ ：  2020-03-10T08:00:00.000Z\n",
      "https://www.pref.yamaguchi.lg.jp/press/202003/045827.html\n",
      "検査数, 陽性数 ：  ('88', '3')\n",
      "相談件数 ：  4375\n",
      "タイムスタンプ ：  2020-03-08T08:00:00.000Z\n",
      "https://www.pref.yamaguchi.lg.jp/press/202003/045819.html\n",
      "検査数, 陽性数 ：  ('77', '3')\n",
      "相談件数 ：  3806\n",
      "タイムスタンプ ：  2020-03-05T08:00:00.000Z\n",
      "https://www.pref.yamaguchi.lg.jp/press/202003/045808.html\n",
      "検査数, 陽性数 ：  ('51', '1')\n",
      "相談件数 ：  2893\n",
      "タイムスタンプ ：  2020-03-03T08:00:00.000Z\n",
      "https://www.pref.yamaguchi.lg.jp/press/202003/045790.html\n",
      "検査数, 陽性数 ：  ('40', 0)\n",
      "相談件数 ：  2433\n",
      "タイムスタンプ ：  2020-03-01T08:00:00.000Z\n",
      "https://www.pref.yamaguchi.lg.jp/press/202002/045777.html\n",
      "検査数, 陽性数 ：  ('30', 0)\n",
      "相談件数 ：  2079\n",
      "タイムスタンプ ：  2020-02-27T08:00:00.000Z\n"
     ]
    }
   ],
   "source": [
    "# 各記事のaタグのhref属性からスクレイピングを行う\n",
    "for elem in news_link_element:\n",
    "    print(elem.attrs['href'])\n",
    "    res = requests.get(elem.attrs['href'])\n",
    "    res.encoding = res.apparent_encoding \n",
    "    soup = BeautifulSoup(res.content, \"html.parser\")\n",
    "    print(\"検査数, 陽性数 ： \", get_inspection_and_patient(soup))\n",
    "    print(\"相談件数 ： \", get_quarent(soup))\n",
    "    print(\"タイムスタンプ ： \", get_timestamp(soup))"
   ]
  },
  {
   "cell_type": "markdown",
   "metadata": {},
   "source": [
    "# ToDo\n",
    "- jsonに格納する\n",
    "- 都度すべてをスクレイピングすると効率悪いので差分だけスクレイピングするようにしたい\n",
    "- hostingしてからどうするかは別途相談\n",
    "- 20件以上になったときの対応"
   ]
  },
  {
   "cell_type": "code",
   "execution_count": null,
   "metadata": {},
   "outputs": [],
   "source": []
  }
 ],
 "metadata": {
  "kernelspec": {
   "display_name": "Python 3",
   "language": "python",
   "name": "python3"
  },
  "language_info": {
   "codemirror_mode": {
    "name": "ipython",
    "version": 3
   },
   "file_extension": ".py",
   "mimetype": "text/x-python",
   "name": "python",
   "nbconvert_exporter": "python",
   "pygments_lexer": "ipython3",
   "version": "3.7.0"
  }
 },
 "nbformat": 4,
 "nbformat_minor": 4
}
