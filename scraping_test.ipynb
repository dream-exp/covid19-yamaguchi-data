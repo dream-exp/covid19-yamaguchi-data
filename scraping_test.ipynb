{
 "cells": [
  {
   "cell_type": "markdown",
   "metadata": {},
   "source": [
    "## 個別ページのデータ収集"
   ]
  },
  {
   "cell_type": "code",
   "execution_count": 146,
   "metadata": {},
   "outputs": [],
   "source": [
    "import requests\n",
    "import re\n",
    "import datetime\n",
    "from bs4 import BeautifulSoup\n",
    "import jaconv\n",
    "import json\n",
    "\n",
    "YEAR = 2020 #現状は2020年で決め打ち\n",
    "DAYS_OF_WEEK = [\"月\",\"火\",\"水\",\"木\",\"金\",\"土\",\"日\"]"
   ]
  },
  {
   "cell_type": "code",
   "execution_count": 147,
   "metadata": {},
   "outputs": [],
   "source": [
    "# import json(template)\n",
    "def import_json(filename):\n",
    "    with open(filename, \"r\") as f:\n",
    "        dict = json.load(f)\n",
    "        return dict\n",
    "    \n",
    "# export json\n",
    "def export_json(obj, filename):\n",
    "    with open(filename, \"w\") as f:\n",
    "        json.dump(\n",
    "            obj=obj,\n",
    "            fp=f,\n",
    "            ensure_ascii=False,\n",
    "            indent=4,\n",
    "            sort_keys=False,\n",
    "            separators=None\n",
    "            )"
   ]
  },
  {
   "cell_type": "code",
   "execution_count": 148,
   "metadata": {},
   "outputs": [],
   "source": [
    "def get_patients(s):\n",
    "    search = re.compile(\"^(?=.*結果：陰性).*$\")\n",
    "    inspections_element = s.find(\"p\", text=search) # 変数searchで指定する正規表現に一致するpタグを取り出す\n",
    "\n",
    "    inspections = re.findall(r'[0-9]+', jaconv.z2h(inspections_element.text.replace(\"，\", \"\"), kana=False, digit=True, ascii=True))  # 対象のpタグから数値を取り出す\n",
    "\n",
    "    patients_num = int(inspections[2])  if len(inspections) > 2 else 0 #県のサイトでは陽性が出ていないときは陰性の数しか書かれていないため\n",
    "    \n",
    "    return patients_num"
   ]
  },
  {
   "cell_type": "code",
   "execution_count": 149,
   "metadata": {},
   "outputs": [],
   "source": [
    "def get_inspections(s): # PCR検査数を返す\n",
    "    search = re.compile(\"^(?=.*PCR検査した検体総数).*$\")\n",
    "    pcr_inspections_element = s.find(\"p\", text=search) # 変数searchで指定する正規表現に一致するpタグを取り出す\n",
    "\n",
    "    pcr_inspections = re.findall(r'[0-9]+', jaconv.z2h(pcr_inspections_element.text.replace(\"，\", \"\"), kana=False, digit=True, ascii=True))  # 対象のpタグから数値を取り出す\n",
    "\n",
    "    pcr_inspection_num = int(pcr_inspections[0])\n",
    "    \n",
    "    return pcr_inspection_num"
   ]
  },
  {
   "cell_type": "code",
   "execution_count": 150,
   "metadata": {},
   "outputs": [],
   "source": [
    "def get_quarents(s): # 相談件数を返す\n",
    "    search = re.compile(\"^(全県相談件数：).*$\")\n",
    "    quarents_element = s.find(\"p\", text=search) # 変数searchで指定する正規表現に一致するpタグを取り出す\n",
    "\n",
    "    quarents = re.findall(r'[0-9]+', jaconv.z2h(quarents_element.text.replace(\"，\", \"\"), kana=False, digit=True, ascii=True))  # 対象のpタグから数値を取り出す\n",
    "\n",
    "    quarents_num = int(quarents[0])\n",
    "\n",
    "    return quarents_num"
   ]
  },
  {
   "cell_type": "code",
   "execution_count": 151,
   "metadata": {},
   "outputs": [],
   "source": [
    "def get_timestamp(s): # その記事内のタイムスタンプを返す\n",
    "    search = re.compile(\"^(?=.*までの件数は次のとおりです).*$\")\n",
    "    date_element = s.find(\"p\", text=search)\n",
    "\n",
    "    date = re.findall(r'[0-9]+', jaconv.z2h(date_element.text.replace(\"，\", \"\"), kana=False, digit=True, ascii=True)) # 対象のpタグから数値を取り出す\n",
    "\n",
    "    time_stamp = \"{}-{}-{}T08:00:00.000Z\".format(YEAR, date[0].zfill(2), date[1].zfill(2)) # 現状は8時決め打ちで、json記載のタイムスタンプに整形している\n",
    "    \n",
    "    return time_stamp"
   ]
  },
  {
   "cell_type": "markdown",
   "metadata": {},
   "source": [
    "## ニュース一覧から新型コロナウイルスの件数ページを取得する"
   ]
  },
  {
   "cell_type": "markdown",
   "metadata": {},
   "source": [
    "更新記事数が20件を超えるとページネーションされるので注意"
   ]
  },
  {
   "cell_type": "code",
   "execution_count": 258,
   "metadata": {},
   "outputs": [],
   "source": [
    "# 現在のdata.jsonをバックアップしてdata_template.jsonに保存する\n",
    "template = import_json(\"./data/data.json\")\n",
    "export_json(obj=template, filename=\"./data/data_template.json\")"
   ]
  },
  {
   "cell_type": "code",
   "execution_count": 152,
   "metadata": {},
   "outputs": [],
   "source": [
    "# 報道発表ページで「新型コロナウイルス感染症にかかる」で検索した際の結果を利用\n",
    "res = requests.get(\"https://webnavi.pref.yamaguchi.lg.jp/press/?q=%E6%96%B0%E5%9E%8B%E3%82%B3%E3%83%AD%E3%83%8A%E3%82%A6%E3%82%A4%E3%83%AB%E3%82%B9%E6%84%9F%E6%9F%93%E7%97%87%E3%81%AB%E3%81%8B%E3%81%8B%E3%82%8B\")\n",
    "res.encoding = res.apparent_encoding \n",
    "soup = BeautifulSoup(res.content, \"html.parser\")"
   ]
  },
  {
   "cell_type": "code",
   "execution_count": 153,
   "metadata": {},
   "outputs": [],
   "source": [
    "search = re.compile(\"^(?=.*新型コロナウイルス感染症にかかる相談件数等について).*$\")\n",
    "news_link_element = soup.find_all(\"a\", text=search) # 個別記事のaタグを取り出す"
   ]
  },
  {
   "cell_type": "code",
   "execution_count": 256,
   "metadata": {},
   "outputs": [
    {
     "name": "stdout",
     "output_type": "stream",
     "text": [
      "https://www.pref.yamaguchi.lg.jp/press/202003/045875.html\n",
      "陽性数 ：  3\n",
      "PCR検査数 ：  232\n",
      "相談件数 ：  6268\n",
      "記事のタイムスタンプ ：  2020-03-17T08:00:00.000Z\n"
     ]
    }
   ],
   "source": [
    "# 各更新項目の既知データをtemplateから取得\n",
    "patients_summary = template['patients_summary']['data']\n",
    "inspection_summary = template['inspections_summary']['data']\n",
    "quarents = template['querents']['data']\n",
    "\n",
    "# 最新の記事のaタグのhref属性からスクレイピングを行う\n",
    "# for elem in news_link_element:\n",
    "elem = news_link_element[0]\n",
    "\n",
    "print(elem.attrs['href'])\n",
    "res = requests.get(elem.attrs['href'])\n",
    "res.encoding = res.apparent_encoding \n",
    "soup = BeautifulSoup(res.content, \"html.parser\")\n",
    "\n",
    "pat_num = get_patients(soup)\n",
    "ins_num = get_inspections(soup)\n",
    "qua_num = get_quarents(soup)\n",
    "\n",
    "yesterday = datetime.datetime.now() - datetime.timedelta(days=1)\n",
    "t_stamp = '{0:%Y-%m-%d}'.format(yesterday)\n",
    "\n",
    "# これまでの陽性者の合計を求める\n",
    "total_patients_num = 0\n",
    "for patient in template['patients_summary']['data']:\n",
    "   total_patients_num += patient['小計']\n",
    "\n",
    "# 今日の陽性者数を求める\n",
    "today_pat_num = pat_num - total_patients_num\n",
    "\n",
    "# 各項目に更新内容を追加\n",
    "patients_summary.append({\n",
    "    \"日付\": t_stamp + \"T08:00:00.000Z\",\n",
    "    \"小計\": today_pat_num\n",
    "})\n",
    "\n",
    "inspection_summary.append({\n",
    "    \"日付\": t_stamp + \"T08:00:00.000Z\",\n",
    "    \"小計\": ins_num\n",
    "})\n",
    "\n",
    "quarents.append({\n",
    "    \"日付\": t_stamp + \"T08:00:00.000Z\",\n",
    "    \"曜日\": DAYS_OF_WEEK[yesterday.weekday()],\n",
    "    \"9-17時\": 1688,\n",
    "    \"17-翌9時\": 130,\n",
    "    \"date\": t_stamp,\n",
    "    \"w\": 2,\n",
    "    \"short_date\": t_stamp[5:7]+ \"/\" + t_stamp[8:10] ,\n",
    "    \"小計\": qua_num\n",
    "})\n",
    "\n",
    "last_update_date = \"{0:%Y/%m/%d 8:00}\".format(datetime.datetime.now())\n",
    "\n",
    "print(\"陽性数 ： \", get_patients(soup))\n",
    "print(\"PCR検査数 ： \", get_inspections(soup))\n",
    "print(\"相談件数 ： \", get_quarents(soup))\n",
    "print(\"記事のタイムスタンプ ： \", get_timestamp(soup))"
   ]
  },
  {
   "cell_type": "code",
   "execution_count": 257,
   "metadata": {},
   "outputs": [],
   "source": [
    "# 出力用jsonデータの構築\n",
    "template[\"lastUpdate\"] = last_update_date\n",
    "template['querents']['date'] = last_update_date\n",
    "template['querents']['data'] = quarents\n",
    "template['patients_summary']['date'] = last_update_date\n",
    "template['patients_summary']['data'] = patients_summary\n",
    "template['inspections_summary']['date'] = last_update_date\n",
    "template['inspections_summary']['data'] = inspection_summary\n",
    "\n",
    "# jsonファイルに出力\n",
    "export_json(obj=template, filename=\"./data/data.json\")"
   ]
  },
  {
   "cell_type": "markdown",
   "metadata": {},
   "source": [
    "# ToDo\n",
    "- ~jsonに格納する~\n",
    "- ~都度すべてをスクレイピングすると効率悪いので差分だけスクレイピングするようにしたい~\n",
    "- hostingしてからどうするかは別途相談\n",
    "- 20件以上になったときの対応"
   ]
  },
  {
   "cell_type": "code",
   "execution_count": null,
   "metadata": {},
   "outputs": [],
   "source": []
  }
 ],
 "metadata": {
  "kernelspec": {
   "display_name": "Python 3",
   "language": "python",
   "name": "python3"
  },
  "language_info": {
   "codemirror_mode": {
    "name": "ipython",
    "version": 3
   },
   "file_extension": ".py",
   "mimetype": "text/x-python",
   "name": "python",
   "nbconvert_exporter": "python",
   "pygments_lexer": "ipython3",
   "version": "3.7.0"
  }
 },
 "nbformat": 4,
 "nbformat_minor": 4
}
